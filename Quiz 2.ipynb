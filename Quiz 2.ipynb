{
 "cells": [
  {
   "cell_type": "code",
   "execution_count": 1,
   "id": "f333181b",
   "metadata": {},
   "outputs": [],
   "source": [
    "import numpy as np"
   ]
  },
  {
   "cell_type": "markdown",
   "id": "7398ad02",
   "metadata": {},
   "source": [
    "### Average"
   ]
  },
  {
   "cell_type": "code",
   "execution_count": 2,
   "id": "afb03b58",
   "metadata": {},
   "outputs": [],
   "source": [
    "avg = lambda x: sum(x)/len(x)\n",
    "\n",
    "# print(avg(x))"
   ]
  },
  {
   "cell_type": "markdown",
   "id": "4d990595",
   "metadata": {},
   "source": [
    "### Taylor approximation "
   ]
  },
  {
   "cell_type": "code",
   "execution_count": 46,
   "id": "dbf23bda",
   "metadata": {},
   "outputs": [],
   "source": [
    "# the formual for that function : f_hat = f(z) + derivated f(z) @ (x - z)\n",
    "f = lambda x: x[0] + np.exp(x[1] - x[0]) # f(z)\n",
    "\n",
    "grad_f = lambda z: np.array([1 - np.exp(z[1] - z[0]), np.exp(z[1] - z[0])]) # derivated f(z) \n",
    "\n",
    "z = np.array([1,2])\n",
    "\n",
    "f_hat = lambda x: f(z) + grad_f(z) @ (x - z) # the approximation function\n",
    "\n",
    "#f([1,2]), f_hat([1,2])"
   ]
  },
  {
   "cell_type": "markdown",
   "id": "3e0960bf",
   "metadata": {},
   "source": [
    "### Regression model "
   ]
  },
  {
   "cell_type": "code",
   "execution_count": 4,
   "id": "ac9899f8",
   "metadata": {},
   "outputs": [],
   "source": [
    "# the formula for that function : f_hat = x @ beta + v  \n",
    "f_hat_reg = lambda x : x @ beta + v \n",
    "# beta and v are Known\n",
    "# beta = \n",
    "# v = \n",
    "# print(f_hat_reg(x))"
   ]
  },
  {
   "cell_type": "markdown",
   "id": "afe4e089",
   "metadata": {},
   "source": [
    "### Norm"
   ]
  },
  {
   "cell_type": "code",
   "execution_count": 7,
   "id": "6b88a5ae",
   "metadata": {},
   "outputs": [
    {
     "name": "stdout",
     "output_type": "stream",
     "text": [
      "101.4051280754578\n",
      "101.4051280754578\n"
     ]
    }
   ],
   "source": [
    "norm = lambda x : np.linalg.norm(x) \n",
    "\n",
    "# print(norm(x))"
   ]
  },
  {
   "cell_type": "markdown",
   "id": "f0086140",
   "metadata": {},
   "source": [
    "### RMS (Root mean Squared)"
   ]
  },
  {
   "cell_type": "code",
   "execution_count": 44,
   "id": "aee62df0",
   "metadata": {},
   "outputs": [],
   "source": [
    "rms = lambda x : norm(x) / len(x)**0.5\n",
    "\n",
    "# print(rms(x))"
   ]
  },
  {
   "cell_type": "markdown",
   "id": "57bf4bd6",
   "metadata": {},
   "source": [
    "### Chebyshev enequality"
   ]
  },
  {
   "cell_type": "code",
   "execution_count": 9,
   "id": "e69e8e62",
   "metadata": {},
   "outputs": [
    {
     "name": "stdout",
     "output_type": "stream",
     "text": [
      "79\n"
     ]
    }
   ],
   "source": [
    "# Define Chebyshev bound function\n",
    "import math\n",
    "cheb_bound = lambda x,a: math.floor(sum(x**2)/a)\n",
    "a = 1.5\n",
    "print(cheb_bound(x,a))"
   ]
  },
  {
   "cell_type": "markdown",
   "id": "fecbe77c",
   "metadata": {},
   "source": [
    "### Distance"
   ]
  },
  {
   "cell_type": "code",
   "execution_count": 42,
   "id": "afce459c",
   "metadata": {},
   "outputs": [],
   "source": [
    "dist = lambda x,y: norm(x-y)\n",
    "\n",
    "# print(dist(x,y))"
   ]
  },
  {
   "cell_type": "markdown",
   "id": "e4f10d8b",
   "metadata": {},
   "source": [
    "### Nearest Neighbor"
   ]
  },
  {
   "cell_type": "code",
   "execution_count": 41,
   "id": "c0c2b588",
   "metadata": {},
   "outputs": [],
   "source": [
    "near_neigh = lambda x,z: z [np.argmin([np.linalg.norm(x-y) for y in z])] \n",
    "\n",
    "#z is the full list we want to take from it the value\n",
    "#x is the values we want to check from the z\n",
    "\n",
    "# z = ([2,1], [7,2], [5.5,4], [4,8], [1,5], [9,6])\n",
    "# x = np.array([5,6])\n",
    "# print(near_neigh(x,z))"
   ]
  },
  {
   "cell_type": "markdown",
   "id": "5e05b13a",
   "metadata": {},
   "source": [
    "### De-meaning vector"
   ]
  },
  {
   "cell_type": "code",
   "execution_count": 40,
   "id": "63decaac",
   "metadata": {},
   "outputs": [],
   "source": [
    "de_mean = lambda x : x - avg(x)\n",
    "\n",
    "# print(de_mean(x))"
   ]
  },
  {
   "cell_type": "markdown",
   "id": "9f96ec00",
   "metadata": {},
   "source": [
    "### Standard deviation"
   ]
  },
  {
   "cell_type": "code",
   "execution_count": 35,
   "id": "0bc0233f",
   "metadata": {},
   "outputs": [],
   "source": [
    "std = lambda x : np.std(x)\n",
    "\n",
    "# print(std(x)) OR print(np.std(x))"
   ]
  },
  {
   "cell_type": "markdown",
   "id": "058c3a37",
   "metadata": {},
   "source": [
    "### Standardizing "
   ]
  },
  {
   "cell_type": "code",
   "execution_count": 36,
   "id": "7b3dc402",
   "metadata": {},
   "outputs": [],
   "source": [
    "standard = lambda x : de_mean(x)/std(x)\n",
    "\n",
    "# print(standard(x))"
   ]
  },
  {
   "cell_type": "markdown",
   "id": "8c61e686",
   "metadata": {},
   "source": [
    "### Angle in raduis"
   ]
  },
  {
   "cell_type": "code",
   "execution_count": 37,
   "id": "2af5525a",
   "metadata": {},
   "outputs": [],
   "source": [
    "ang = lambda x,y : np.arccos(x@y/( norm(x)*norm(y)))\n",
    "\n",
    "# print(ang(x,y))"
   ]
  },
  {
   "cell_type": "markdown",
   "id": "4e4ef846",
   "metadata": {},
   "source": [
    "### Angle in degree"
   ]
  },
  {
   "cell_type": "code",
   "execution_count": 38,
   "id": "a1f91ec7",
   "metadata": {},
   "outputs": [],
   "source": [
    "ang_deg = lambda x,y : ang(x,y) * (360/(2*np.pi))\n",
    "\n",
    "# print(ang_deg(x,y))"
   ]
  },
  {
   "cell_type": "markdown",
   "id": "f89c5913",
   "metadata": {},
   "source": [
    "### Correlation Coefficient"
   ]
  },
  {
   "cell_type": "code",
   "execution_count": 45,
   "id": "20967ab7",
   "metadata": {},
   "outputs": [],
   "source": [
    "corr = lambda x,y: (de_mean(x) @ de_mean(y)) / (norm(de_mean(x)) * norm(de_mean(y)))\n",
    "\n",
    "# print(corr(x,y))"
   ]
  }
 ],
 "metadata": {
  "kernelspec": {
   "display_name": "Python 3",
   "language": "python",
   "name": "python3"
  },
  "language_info": {
   "codemirror_mode": {
    "name": "ipython",
    "version": 3
   },
   "file_extension": ".py",
   "mimetype": "text/x-python",
   "name": "python",
   "nbconvert_exporter": "python",
   "pygments_lexer": "ipython3",
   "version": "3.8.8"
  }
 },
 "nbformat": 4,
 "nbformat_minor": 5
}
