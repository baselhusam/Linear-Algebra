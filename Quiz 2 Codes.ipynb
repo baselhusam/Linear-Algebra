{
 "cells": [
  {
   "cell_type": "code",
   "execution_count": 1,
   "id": "ef6446f1",
   "metadata": {},
   "outputs": [],
   "source": [
    "import numpy as np"
   ]
  },
  {
   "cell_type": "markdown",
   "id": "89182846",
   "metadata": {},
   "source": [
    "### Average"
   ]
  },
  {
   "cell_type": "code",
   "execution_count": 2,
   "id": "133fd700",
   "metadata": {},
   "outputs": [],
   "source": [
    "avg = lambda x: sum(x)/len(x)\n",
    "\n",
    "# print(avg(x))"
   ]
  },
  {
   "cell_type": "markdown",
   "id": "5898bade",
   "metadata": {},
   "source": [
    "### Taylor approximation "
   ]
  },
  {
   "cell_type": "code",
   "execution_count": 46,
   "id": "b0601d3d",
   "metadata": {},
   "outputs": [],
   "source": [
    "# the formual for that function : f_hat = f(z) + derivated f(z) @ (x - z)\n",
    "f = lambda x: x[0] + np.exp(x[1] - x[0]) # f(z)\n",
    "\n",
    "grad_f = lambda z: np.array([1 - np.exp(z[1] - z[0]), np.exp(z[1] - z[0])]) # derivated f(z) \n",
    "\n",
    "z = np.array([1,2])\n",
    "\n",
    "f_hat = lambda x: f(z) + grad_f(z) @ (x - z) # the approximation function\n",
    "\n",
    "#f([1,2]), f_hat([1,2])"
   ]
  },
  {
   "cell_type": "markdown",
   "id": "262dd151",
   "metadata": {},
   "source": [
    "### Regression model "
   ]
  },
  {
   "cell_type": "code",
   "execution_count": 4,
   "id": "3a33903a",
   "metadata": {},
   "outputs": [],
   "source": [
    "# the formula for that function : f_hat = x @ beta + v  \n",
    "f_hat_reg = lambda x : x @ beta + v \n",
    "# beta and v are Known\n",
    "# beta = \n",
    "# v = \n",
    "# print(f_hat_reg(x))"
   ]
  },
  {
   "cell_type": "markdown",
   "id": "c7ad0db0",
   "metadata": {},
   "source": [
    "### Norm"
   ]
  },
  {
   "cell_type": "code",
   "execution_count": 47,
   "id": "5da32bee",
   "metadata": {},
   "outputs": [],
   "source": [
    "norm = lambda x : np.linalg.norm(x) \n",
    "\n",
    "# print(norm(x))"
   ]
  },
  {
   "cell_type": "markdown",
   "id": "b5a3cf9f",
   "metadata": {},
   "source": [
    "### RMS (Root mean Squared)"
   ]
  },
  {
   "cell_type": "code",
   "execution_count": 44,
   "id": "f1487b86",
   "metadata": {},
   "outputs": [],
   "source": [
    "rms = lambda x : norm(x) / len(x)**0.5\n",
    "\n",
    "# print(rms(x))"
   ]
  },
  {
   "cell_type": "markdown",
   "id": "1d01c437",
   "metadata": {},
   "source": [
    "### Chebyshev enequality"
   ]
  },
  {
   "cell_type": "code",
   "execution_count": 9,
   "id": "57ea0114",
   "metadata": {},
   "outputs": [
    {
     "name": "stdout",
     "output_type": "stream",
     "text": [
      "79\n"
     ]
    }
   ],
   "source": [
    "# Define Chebyshev bound function\n",
    "import math\n",
    "cheb_bound = lambda x,a: math.floor(sum(x**2)/a)\n",
    "a = 1.5\n",
    "print(cheb_bound(x,a))"
   ]
  },
  {
   "cell_type": "markdown",
   "id": "c9ea007a",
   "metadata": {},
   "source": [
    "### Distance"
   ]
  },
  {
   "cell_type": "code",
   "execution_count": 42,
   "id": "1212ff00",
   "metadata": {},
   "outputs": [],
   "source": [
    "dist = lambda x,y: norm(x-y)\n",
    "\n",
    "# print(dist(x,y))"
   ]
  },
  {
   "cell_type": "markdown",
   "id": "76f9e62c",
   "metadata": {},
   "source": [
    "### Nearest Neighbor"
   ]
  },
  {
   "cell_type": "code",
   "execution_count": 41,
   "id": "b29ae412",
   "metadata": {},
   "outputs": [],
   "source": [
    "near_neigh = lambda x,z: z [np.argmin([np.linalg.norm(x-y) for y in z])] \n",
    "\n",
    "#z is the full list we want to take from it the value\n",
    "#x is the values we want to check from the z\n",
    "\n",
    "# z = ([2,1], [7,2], [5.5,4], [4,8], [1,5], [9,6])\n",
    "# x = np.array([5,6])\n",
    "# print(near_neigh(x,z))"
   ]
  },
  {
   "cell_type": "markdown",
   "id": "f59fa41d",
   "metadata": {},
   "source": [
    "### De-meaning vector"
   ]
  },
  {
   "cell_type": "code",
   "execution_count": 40,
   "id": "3e1d7843",
   "metadata": {},
   "outputs": [],
   "source": [
    "de_mean = lambda x : x - avg(x)\n",
    "\n",
    "# print(de_mean(x))"
   ]
  },
  {
   "cell_type": "markdown",
   "id": "496c8979",
   "metadata": {},
   "source": [
    "### Standard deviation"
   ]
  },
  {
   "cell_type": "code",
   "execution_count": 35,
   "id": "8d47cf45",
   "metadata": {},
   "outputs": [],
   "source": [
    "std = lambda x : np.std(x)\n",
    "\n",
    "# print(std(x)) OR print(np.std(x))"
   ]
  },
  {
   "cell_type": "markdown",
   "id": "6c182430",
   "metadata": {},
   "source": [
    "### Standardizing "
   ]
  },
  {
   "cell_type": "code",
   "execution_count": 36,
   "id": "6331c432",
   "metadata": {},
   "outputs": [],
   "source": [
    "standard = lambda x : de_mean(x)/std(x)\n",
    "\n",
    "# print(standard(x))"
   ]
  },
  {
   "cell_type": "markdown",
   "id": "a7e40081",
   "metadata": {},
   "source": [
    "### Angle in raduis"
   ]
  },
  {
   "cell_type": "code",
   "execution_count": 37,
   "id": "c38e6d5f",
   "metadata": {},
   "outputs": [],
   "source": [
    "ang = lambda x,y : np.arccos(x@y/( norm(x)*norm(y)))\n",
    "\n",
    "# print(ang(x,y))"
   ]
  },
  {
   "cell_type": "markdown",
   "id": "09c38916",
   "metadata": {},
   "source": [
    "### Angle in degree"
   ]
  },
  {
   "cell_type": "code",
   "execution_count": 38,
   "id": "d187e322",
   "metadata": {},
   "outputs": [],
   "source": [
    "ang_deg = lambda x,y : ang(x,y) * (360/(2*np.pi))\n",
    "\n",
    "# print(ang_deg(x,y))"
   ]
  },
  {
   "cell_type": "markdown",
   "id": "590ccc2f",
   "metadata": {},
   "source": [
    "### Correlation Coefficient"
   ]
  },
  {
   "cell_type": "code",
   "execution_count": 45,
   "id": "52538909",
   "metadata": {},
   "outputs": [],
   "source": [
    "corr = lambda x,y: (de_mean(x) @ de_mean(y)) / (norm(de_mean(x)) * norm(de_mean(y)))\n",
    "\n",
    "# print(corr(x,y))"
   ]
  }
 ],
 "metadata": {
  "kernelspec": {
   "display_name": "Python 3",
   "language": "python",
   "name": "python3"
  },
  "language_info": {
   "codemirror_mode": {
    "name": "ipython",
    "version": 3
   },
   "file_extension": ".py",
   "mimetype": "text/x-python",
   "name": "python",
   "nbconvert_exporter": "python",
   "pygments_lexer": "ipython3",
   "version": "3.8.8"
  }
 },
 "nbformat": 4,
 "nbformat_minor": 5
}
